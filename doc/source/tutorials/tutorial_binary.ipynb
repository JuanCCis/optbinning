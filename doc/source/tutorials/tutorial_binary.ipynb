{
 "cells": [
  {
   "cell_type": "markdown",
   "metadata": {},
   "source": [
    "# Tutorial: optimal binning with binary target"
   ]
  },
  {
   "cell_type": "markdown",
   "metadata": {},
   "source": [
    "## Basic"
   ]
  },
  {
   "cell_type": "markdown",
   "metadata": {},
   "source": [
    "To get us started, let's load a well-known dataset from the UCI repository and transform the data into a ``pandas.DataFrame``."
   ]
  },
  {
   "cell_type": "code",
   "execution_count": 1,
   "metadata": {},
   "outputs": [],
   "source": [
    "import numpy as np\n",
    "import pandas as pd\n",
    "from sklearn.datasets import load_breast_cancer"
   ]
  },
  {
   "cell_type": "code",
   "execution_count": 2,
   "metadata": {},
   "outputs": [],
   "source": [
    "data = load_breast_cancer()\n",
    "df = pd.DataFrame(data.data, columns=data.feature_names)"
   ]
  },
  {
   "cell_type": "markdown",
   "metadata": {},
   "source": [
    "We choose a variable to discretize and the binary target."
   ]
  },
  {
   "cell_type": "code",
   "execution_count": 3,
   "metadata": {},
   "outputs": [],
   "source": [
    "variable = \"mean radius\"\n",
    "x = df[variable].values\n",
    "y = data.target"
   ]
  },
  {
   "cell_type": "markdown",
   "metadata": {},
   "source": [
    "Import and instantiate an ``OptimalBinning`` object class. We pass the variable name, its data type, and a solver, in this case, we choose the constraint programming solver."
   ]
  },
  {
   "cell_type": "code",
   "execution_count": 4,
   "metadata": {},
   "outputs": [],
   "source": [
    "from optbinning import OptimalBinning"
   ]
  },
  {
   "cell_type": "code",
   "execution_count": 5,
   "metadata": {},
   "outputs": [],
   "source": [
    "optb = OptimalBinning(name=variable, dtype=\"numerical\", solver=\"cp\")"
   ]
  },
  {
   "cell_type": "markdown",
   "metadata": {},
   "source": [
    "We fit the optimal binning object with arrays ``x`` and ``y``."
   ]
  },
  {
   "cell_type": "code",
   "execution_count": 6,
   "metadata": {},
   "outputs": [
    {
     "data": {
      "text/plain": [
       "OptimalBinning(cat_cutoff=None, class_weight=None, dtype='numerical', gamma=0,\n",
       "               max_bin_n_event=None, max_bin_n_nonevent=None, max_bin_size=None,\n",
       "               max_n_bins=None, max_n_prebins=20, max_pvalue=None,\n",
       "               max_pvalue_policy='consecutive', min_bin_n_event=None,\n",
       "               min_bin_n_nonevent=None, min_bin_size=None,\n",
       "               min_event_rate_diff=0, min_n_bins=None, min_prebin_size=0.05,\n",
       "               mip_solver='bop', monotonic_trend='auto', name='mean radius',\n",
       "               outlier_detector=None, outlier_params=None,\n",
       "               prebinning_method='cart', solver='cp', special_codes=None,\n",
       "               split_digits=None, time_limit=100, user_splits=None,\n",
       "               user_splits_fixed=None, verbose=False)"
      ]
     },
     "execution_count": 6,
     "metadata": {},
     "output_type": "execute_result"
    }
   ],
   "source": [
    "optb.fit(x, y)"
   ]
  },
  {
   "cell_type": "markdown",
   "metadata": {},
   "source": [
    "You can check if an optimal solution has been found via the ``status`` attribute:"
   ]
  },
  {
   "cell_type": "code",
   "execution_count": 7,
   "metadata": {},
   "outputs": [
    {
     "data": {
      "text/plain": [
       "'OPTIMAL'"
      ]
     },
     "execution_count": 7,
     "metadata": {},
     "output_type": "execute_result"
    }
   ],
   "source": [
    "optb.status"
   ]
  },
  {
   "cell_type": "markdown",
   "metadata": {},
   "source": [
    "You can also retrieve the optimal split points via the ``splits`` attribute:"
   ]
  },
  {
   "cell_type": "code",
   "execution_count": 8,
   "metadata": {},
   "outputs": [
    {
     "data": {
      "text/plain": [
       "array([11.42500019, 12.32999992, 13.09499979, 13.70499992, 15.04500008,\n",
       "       16.92500019])"
      ]
     },
     "execution_count": 8,
     "metadata": {},
     "output_type": "execute_result"
    }
   ],
   "source": [
    "optb.splits"
   ]
  },
  {
   "cell_type": "markdown",
   "metadata": {},
   "source": [
    "#### The binning table"
   ]
  },
  {
   "cell_type": "markdown",
   "metadata": {},
   "source": [
    "The optimal binning algorithms return a binning table; a binning table displays the binned data and several metrics for each bin. Class ``OptimalBinning`` returns an object ``BinningTable`` via the ``binning_table`` attribute."
   ]
  },
  {
   "cell_type": "code",
   "execution_count": 9,
   "metadata": {},
   "outputs": [],
   "source": [
    "binning_table = optb.binning_table"
   ]
  },
  {
   "cell_type": "code",
   "execution_count": 10,
   "metadata": {},
   "outputs": [
    {
     "data": {
      "text/plain": [
       "optbinning.binning.binning_statistics.BinningTable"
      ]
     },
     "execution_count": 10,
     "metadata": {},
     "output_type": "execute_result"
    }
   ],
   "source": [
    "type(binning_table)"
   ]
  },
  {
   "cell_type": "markdown",
   "metadata": {},
   "source": [
    "The `binning_table` is instantiated, but not built. Therefore, the first step is to call the method `build`, which returns a ``pandas.DataFrame``."
   ]
  },
  {
   "cell_type": "code",
   "execution_count": 11,
   "metadata": {},
   "outputs": [
    {
     "data": {
      "text/html": [
       "<div>\n",
       "<style scoped>\n",
       "    .dataframe tbody tr th:only-of-type {\n",
       "        vertical-align: middle;\n",
       "    }\n",
       "\n",
       "    .dataframe tbody tr th {\n",
       "        vertical-align: top;\n",
       "    }\n",
       "\n",
       "    .dataframe thead th {\n",
       "        text-align: right;\n",
       "    }\n",
       "</style>\n",
       "<table border=\"1\" class=\"dataframe\">\n",
       "  <thead>\n",
       "    <tr style=\"text-align: right;\">\n",
       "      <th></th>\n",
       "      <th>Bin</th>\n",
       "      <th>Count</th>\n",
       "      <th>Count (%)</th>\n",
       "      <th>Non-event</th>\n",
       "      <th>Event</th>\n",
       "      <th>Event rate</th>\n",
       "      <th>WoE</th>\n",
       "      <th>IV</th>\n",
       "      <th>JS</th>\n",
       "    </tr>\n",
       "  </thead>\n",
       "  <tbody>\n",
       "    <tr>\n",
       "      <th>0</th>\n",
       "      <td>[-inf, 11.43)</td>\n",
       "      <td>118</td>\n",
       "      <td>0.207381</td>\n",
       "      <td>3</td>\n",
       "      <td>115</td>\n",
       "      <td>0.974576</td>\n",
       "      <td>-3.12517</td>\n",
       "      <td>0.962483</td>\n",
       "      <td>0.087205</td>\n",
       "    </tr>\n",
       "    <tr>\n",
       "      <th>1</th>\n",
       "      <td>[11.43, 12.33)</td>\n",
       "      <td>79</td>\n",
       "      <td>0.138840</td>\n",
       "      <td>3</td>\n",
       "      <td>76</td>\n",
       "      <td>0.962025</td>\n",
       "      <td>-2.71097</td>\n",
       "      <td>0.538763</td>\n",
       "      <td>0.052198</td>\n",
       "    </tr>\n",
       "    <tr>\n",
       "      <th>2</th>\n",
       "      <td>[12.33, 13.09)</td>\n",
       "      <td>68</td>\n",
       "      <td>0.119508</td>\n",
       "      <td>7</td>\n",
       "      <td>61</td>\n",
       "      <td>0.897059</td>\n",
       "      <td>-1.64381</td>\n",
       "      <td>0.226599</td>\n",
       "      <td>0.025513</td>\n",
       "    </tr>\n",
       "    <tr>\n",
       "      <th>3</th>\n",
       "      <td>[13.09, 13.70)</td>\n",
       "      <td>49</td>\n",
       "      <td>0.086116</td>\n",
       "      <td>10</td>\n",
       "      <td>39</td>\n",
       "      <td>0.795918</td>\n",
       "      <td>-0.839827</td>\n",
       "      <td>0.052131</td>\n",
       "      <td>0.006331</td>\n",
       "    </tr>\n",
       "    <tr>\n",
       "      <th>4</th>\n",
       "      <td>[13.70, 15.05)</td>\n",
       "      <td>83</td>\n",
       "      <td>0.145870</td>\n",
       "      <td>28</td>\n",
       "      <td>55</td>\n",
       "      <td>0.662651</td>\n",
       "      <td>-0.153979</td>\n",
       "      <td>0.003385</td>\n",
       "      <td>0.000423</td>\n",
       "    </tr>\n",
       "    <tr>\n",
       "      <th>5</th>\n",
       "      <td>[15.05, 16.93)</td>\n",
       "      <td>54</td>\n",
       "      <td>0.094903</td>\n",
       "      <td>44</td>\n",
       "      <td>10</td>\n",
       "      <td>0.185185</td>\n",
       "      <td>2.00275</td>\n",
       "      <td>0.359566</td>\n",
       "      <td>0.038678</td>\n",
       "    </tr>\n",
       "    <tr>\n",
       "      <th>6</th>\n",
       "      <td>[16.93, inf)</td>\n",
       "      <td>118</td>\n",
       "      <td>0.207381</td>\n",
       "      <td>117</td>\n",
       "      <td>1</td>\n",
       "      <td>0.008475</td>\n",
       "      <td>5.28332</td>\n",
       "      <td>2.900997</td>\n",
       "      <td>0.183436</td>\n",
       "    </tr>\n",
       "    <tr>\n",
       "      <th>7</th>\n",
       "      <td>Special</td>\n",
       "      <td>0</td>\n",
       "      <td>0.000000</td>\n",
       "      <td>0</td>\n",
       "      <td>0</td>\n",
       "      <td>0.000000</td>\n",
       "      <td>0</td>\n",
       "      <td>0.000000</td>\n",
       "      <td>0.000000</td>\n",
       "    </tr>\n",
       "    <tr>\n",
       "      <th>8</th>\n",
       "      <td>Missing</td>\n",
       "      <td>0</td>\n",
       "      <td>0.000000</td>\n",
       "      <td>0</td>\n",
       "      <td>0</td>\n",
       "      <td>0.000000</td>\n",
       "      <td>0</td>\n",
       "      <td>0.000000</td>\n",
       "      <td>0.000000</td>\n",
       "    </tr>\n",
       "    <tr>\n",
       "      <th>Totals</th>\n",
       "      <td></td>\n",
       "      <td>569</td>\n",
       "      <td>1.000000</td>\n",
       "      <td>212</td>\n",
       "      <td>357</td>\n",
       "      <td>0.627417</td>\n",
       "      <td></td>\n",
       "      <td>5.043925</td>\n",
       "      <td>0.393784</td>\n",
       "    </tr>\n",
       "  </tbody>\n",
       "</table>\n",
       "</div>"
      ],
      "text/plain": [
       "                   Bin  Count  Count (%)  Non-event  Event  Event rate  \\\n",
       "0        [-inf, 11.43)    118   0.207381          3    115    0.974576   \n",
       "1       [11.43, 12.33)     79   0.138840          3     76    0.962025   \n",
       "2       [12.33, 13.09)     68   0.119508          7     61    0.897059   \n",
       "3       [13.09, 13.70)     49   0.086116         10     39    0.795918   \n",
       "4       [13.70, 15.05)     83   0.145870         28     55    0.662651   \n",
       "5       [15.05, 16.93)     54   0.094903         44     10    0.185185   \n",
       "6         [16.93, inf)    118   0.207381        117      1    0.008475   \n",
       "7              Special      0   0.000000          0      0    0.000000   \n",
       "8              Missing      0   0.000000          0      0    0.000000   \n",
       "Totals                    569   1.000000        212    357    0.627417   \n",
       "\n",
       "             WoE        IV        JS  \n",
       "0       -3.12517  0.962483  0.087205  \n",
       "1       -2.71097  0.538763  0.052198  \n",
       "2       -1.64381  0.226599  0.025513  \n",
       "3      -0.839827  0.052131  0.006331  \n",
       "4      -0.153979  0.003385  0.000423  \n",
       "5        2.00275  0.359566  0.038678  \n",
       "6        5.28332  2.900997  0.183436  \n",
       "7              0  0.000000  0.000000  \n",
       "8              0  0.000000  0.000000  \n",
       "Totals            5.043925  0.393784  "
      ]
     },
     "execution_count": 11,
     "metadata": {},
     "output_type": "execute_result"
    }
   ],
   "source": [
    "binning_table.build()"
   ]
  },
  {
   "cell_type": "markdown",
   "metadata": {},
   "source": [
    "Let's describe the columns of this binning table:\n",
    "\n",
    "- Bin: the intervals delimited by the optimal split points.\n",
    "- Count: the number of records for each bin.\n",
    "- Count (%): the percentage of records for each bin.\n",
    "- Non-event: the number of non-event records $(y = 0)$ for each bin.\n",
    "- Event: the number of event records $(y = 1)$ for each bin.\n",
    "- Event rate: the percentage of event records for each bin.\n",
    "- WoE: the Weight-of-Evidence for each bin.\n",
    "- IV: the Information Value (also known as Jeffrey's divergence) for each bin.\n",
    "- JS: the Jensen-Shannon divergence for each bin.\n",
    "\n",
    "The last row shows the total number of records, non-event records, event records, and IV and JS."
   ]
  },
  {
   "cell_type": "markdown",
   "metadata": {},
   "source": [
    "You can use the method ``plot`` to visualize the histogram and WoE or event rate curve. Note that the Bin ID corresponds to the binning table index."
   ]
  },
  {
   "cell_type": "code",
   "execution_count": 12,
   "metadata": {},
   "outputs": [
    {
     "data": {
      "image/png": "[encoded data removed]",
      "text/plain": [
       "<Figure size 432x288 with 2 Axes>"
      ]
     },
     "metadata": {
      "needs_background": "light"
     },
     "output_type": "display_data"
    }
   ],
   "source": [
    "binning_table.plot(metric=\"woe\")"
   ]
  },
  {
   "cell_type": "code",
   "execution_count": 13,
   "metadata": {},
   "outputs": [
    {
     "data": {
      "image/png": "[encoded data removed]",
      "text/plain": [
       "<Figure size 432x288 with 2 Axes>"
      ]
     },
     "metadata": {
      "needs_background": "light"
     },
     "output_type": "display_data"
    }
   ],
   "source": [
    "binning_table.plot(metric=\"event_rate\")"
   ]
  },
  {
   "cell_type": "markdown",
   "metadata": {},
   "source": [
    "Note that WoE is inversely related to the event rate, i.e., a monotonically ascending event rate ensures a monotonically descending WoE and vice-versa. We will see more monotonic trend options in the advanced tutorial."
   ]
  },
  {
   "cell_type": "markdown",
   "metadata": {},
   "source": [
    "##### Event rate / WoE transformation"
   ]
  },
  {
   "cell_type": "markdown",
   "metadata": {},
   "source": [
    "Now that we have checked the binned data, we can transform our original data into WoE or event rate values. You can check the correctness of the transformation using pandas ``value_counts`` method, for instance."
   ]
  },
  {
   "cell_type": "code",
   "execution_count": 14,
   "metadata": {},
   "outputs": [],
   "source": [
    "x_transform_woe = optb.transform(x, metric=\"woe\")"
   ]
  },
  {
   "cell_type": "code",
   "execution_count": 15,
   "metadata": {},
   "outputs": [
    {
     "data": {
      "text/plain": [
       " 5.283323    118\n",
       "-3.125170    118\n",
       "-0.153979     83\n",
       "-2.710972     79\n",
       "-1.643814     68\n",
       " 2.002754     54\n",
       "-0.839827     49\n",
       "dtype: int64"
      ]
     },
     "execution_count": 15,
     "metadata": {},
     "output_type": "execute_result"
    }
   ],
   "source": [
    "pd.Series(x_transform_woe).value_counts()"
   ]
  },
  {
   "cell_type": "code",
   "execution_count": 16,
   "metadata": {},
   "outputs": [],
   "source": [
    "x_transform_event_rate = optb.transform(x, metric=\"event_rate\")"
   ]
  },
  {
   "cell_type": "code",
   "execution_count": 17,
   "metadata": {},
   "outputs": [
    {
     "data": {
      "text/plain": [
       "0.008475    118\n",
       "0.974576    118\n",
       "0.662651     83\n",
       "0.962025     79\n",
       "0.897059     68\n",
       "0.185185     54\n",
       "0.795918     49\n",
       "dtype: int64"
      ]
     },
     "execution_count": 17,
     "metadata": {},
     "output_type": "execute_result"
    }
   ],
   "source": [
    "pd.Series(x_transform_event_rate).value_counts()"
   ]
  },
  {
   "cell_type": "markdown",
   "metadata": {},
   "source": [
    "#### Categorical variable"
   ]
  },
  {
   "cell_type": "markdown",
   "metadata": {},
   "source": [
    "Let's load the application_train.csv file from the Kaggle's competition https://www.kaggle.com/c/home-credit-default-risk/data."
   ]
  },
  {
   "cell_type": "code",
   "execution_count": 18,
   "metadata": {},
   "outputs": [],
   "source": [
    "df_cat = pd.read_csv(\"data/kaggle/HomeCreditDefaultRisk/application_train.csv\",\n",
    "                     engine='c')"
   ]
  },
  {
   "cell_type": "code",
   "execution_count": 19,
   "metadata": {},
   "outputs": [],
   "source": [
    "variable_cat = \"NAME_INCOME_TYPE\"\n",
    "x_cat = df_cat[variable_cat].values\n",
    "y_cat = df_cat.TARGET.values"
   ]
  },
  {
   "cell_type": "code",
   "execution_count": 20,
   "metadata": {},
   "outputs": [
    {
     "data": {
      "text/plain": [
       "Working                 158774\n",
       "Commercial associate     71617\n",
       "Pensioner                55362\n",
       "State servant            21703\n",
       "Unemployed                  22\n",
       "Student                     18\n",
       "Businessman                 10\n",
       "Maternity leave              5\n",
       "Name: NAME_INCOME_TYPE, dtype: int64"
      ]
     },
     "execution_count": 20,
     "metadata": {},
     "output_type": "execute_result"
    }
   ],
   "source": [
    "df_cat[variable_cat].value_counts()"
   ]
  },
  {
   "cell_type": "markdown",
   "metadata": {},
   "source": [
    "We instantiate an ``OptimalBinning`` object class with the variable name, its data type (**categorical**) and a solver, in this case, we choose the mixed-integer programming solver. Also, for this particular example, we set a ``cat_cutoff=0.1`` to create bin others with categories in which the percentage of occurrences is below 10%. This will merge categories State servant, Unemployed, Student, Businessman and Maternity leave."
   ]
  },
  {
   "cell_type": "code",
   "execution_count": 21,
   "metadata": {},
   "outputs": [],
   "source": [
    "optb = OptimalBinning(name=variable_cat, dtype=\"categorical\", solver=\"mip\",\n",
    "                      cat_cutoff=0.1)"
   ]
  },
  {
   "cell_type": "code",
   "execution_count": 22,
   "metadata": {},
   "outputs": [
    {
     "data": {
      "text/plain": [
       "OptimalBinning(cat_cutoff=0.1, class_weight=None, dtype='categorical', gamma=0,\n",
       "               max_bin_n_event=None, max_bin_n_nonevent=None, max_bin_size=None,\n",
       "               max_n_bins=None, max_n_prebins=20, max_pvalue=None,\n",
       "               max_pvalue_policy='consecutive', min_bin_n_event=None,\n",
       "               min_bin_n_nonevent=None, min_bin_size=None,\n",
       "               min_event_rate_diff=0, min_n_bins=None, min_prebin_size=0.05,\n",
       "               mip_solver='bop', monotonic_trend='auto',\n",
       "               name='NAME_INCOME_TYPE', outlier_detector=None,\n",
       "               outlier_params=None, prebinning_method='cart', solver='mip',\n",
       "               special_codes=None, split_digits=None, time_limit=100,\n",
       "               user_splits=None, user_splits_fixed=None, verbose=False)"
      ]
     },
     "execution_count": 22,
     "metadata": {},
     "output_type": "execute_result"
    }
   ],
   "source": [
    "optb.fit(x_cat, y_cat)"
   ]
  },
  {
   "cell_type": "code",
   "execution_count": 23,
   "metadata": {},
   "outputs": [
    {
     "data": {
      "text/plain": [
       "'OPTIMAL'"
      ]
     },
     "execution_count": 23,
     "metadata": {},
     "output_type": "execute_result"
    }
   ],
   "source": [
    "optb.status"
   ]
  },
  {
   "cell_type": "markdown",
   "metadata": {},
   "source": [
    "The optimal split points are the list of classes belonging to each bin."
   ]
  },
  {
   "cell_type": "code",
   "execution_count": 24,
   "metadata": {},
   "outputs": [
    {
     "data": {
      "text/plain": [
       "[array(['Pensioner'], dtype=object),\n",
       " array(['Commercial associate'], dtype=object),\n",
       " array(['Working'], dtype=object),\n",
       " array(['State servant', 'Unemployed', 'Student', 'Businessman',\n",
       "        'Maternity leave'], dtype=object)]"
      ]
     },
     "execution_count": 24,
     "metadata": {},
     "output_type": "execute_result"
    }
   ],
   "source": [
    "optb.splits"
   ]
  },
  {
   "cell_type": "code",
   "execution_count": 25,
   "metadata": {},
   "outputs": [
    {
     "data": {
      "text/html": [
       "<div>\n",
       "<style scoped>\n",
       "    .dataframe tbody tr th:only-of-type {\n",
       "        vertical-align: middle;\n",
       "    }\n",
       "\n",
       "    .dataframe tbody tr th {\n",
       "        vertical-align: top;\n",
       "    }\n",
       "\n",
       "    .dataframe thead th {\n",
       "        text-align: right;\n",
       "    }\n",
       "</style>\n",
       "<table border=\"1\" class=\"dataframe\">\n",
       "  <thead>\n",
       "    <tr style=\"text-align: right;\">\n",
       "      <th></th>\n",
       "      <th>Bin</th>\n",
       "      <th>Count</th>\n",
       "      <th>Count (%)</th>\n",
       "      <th>Non-event</th>\n",
       "      <th>Event</th>\n",
       "      <th>Event rate</th>\n",
       "      <th>WoE</th>\n",
       "      <th>IV</th>\n",
       "      <th>JS</th>\n",
       "    </tr>\n",
       "  </thead>\n",
       "  <tbody>\n",
       "    <tr>\n",
       "      <th>0</th>\n",
       "      <td>[Pensioner]</td>\n",
       "      <td>55362</td>\n",
       "      <td>0.180033</td>\n",
       "      <td>52380</td>\n",
       "      <td>2982</td>\n",
       "      <td>0.053864</td>\n",
       "      <td>0.433445</td>\n",
       "      <td>0.028249</td>\n",
       "      <td>0.003504</td>\n",
       "    </tr>\n",
       "    <tr>\n",
       "      <th>1</th>\n",
       "      <td>[Commercial associate]</td>\n",
       "      <td>71617</td>\n",
       "      <td>0.232892</td>\n",
       "      <td>66257</td>\n",
       "      <td>5360</td>\n",
       "      <td>0.074843</td>\n",
       "      <td>0.0820916</td>\n",
       "      <td>0.001516</td>\n",
       "      <td>0.000189</td>\n",
       "    </tr>\n",
       "    <tr>\n",
       "      <th>2</th>\n",
       "      <td>[Working]</td>\n",
       "      <td>158774</td>\n",
       "      <td>0.516320</td>\n",
       "      <td>143550</td>\n",
       "      <td>15224</td>\n",
       "      <td>0.095885</td>\n",
       "      <td>-0.188675</td>\n",
       "      <td>0.019895</td>\n",
       "      <td>0.002483</td>\n",
       "    </tr>\n",
       "    <tr>\n",
       "      <th>3</th>\n",
       "      <td>[State servant, Unemployed, Student, Businessm...</td>\n",
       "      <td>21758</td>\n",
       "      <td>0.070755</td>\n",
       "      <td>20499</td>\n",
       "      <td>1259</td>\n",
       "      <td>0.057864</td>\n",
       "      <td>0.357573</td>\n",
       "      <td>0.007795</td>\n",
       "      <td>0.000969</td>\n",
       "    </tr>\n",
       "    <tr>\n",
       "      <th>4</th>\n",
       "      <td>Special</td>\n",
       "      <td>0</td>\n",
       "      <td>0.000000</td>\n",
       "      <td>0</td>\n",
       "      <td>0</td>\n",
       "      <td>0.000000</td>\n",
       "      <td>0</td>\n",
       "      <td>0.000000</td>\n",
       "      <td>0.000000</td>\n",
       "    </tr>\n",
       "    <tr>\n",
       "      <th>5</th>\n",
       "      <td>Missing</td>\n",
       "      <td>0</td>\n",
       "      <td>0.000000</td>\n",
       "      <td>0</td>\n",
       "      <td>0</td>\n",
       "      <td>0.000000</td>\n",
       "      <td>0</td>\n",
       "      <td>0.000000</td>\n",
       "      <td>0.000000</td>\n",
       "    </tr>\n",
       "    <tr>\n",
       "      <th>Totals</th>\n",
       "      <td></td>\n",
       "      <td>307511</td>\n",
       "      <td>1.000000</td>\n",
       "      <td>282686</td>\n",
       "      <td>24825</td>\n",
       "      <td>0.080729</td>\n",
       "      <td></td>\n",
       "      <td>0.057455</td>\n",
       "      <td>0.007146</td>\n",
       "    </tr>\n",
       "  </tbody>\n",
       "</table>\n",
       "</div>"
      ],
      "text/plain": [
       "                                                      Bin   Count  Count (%)  \\\n",
       "0                                             [Pensioner]   55362   0.180033   \n",
       "1                                  [Commercial associate]   71617   0.232892   \n",
       "2                                               [Working]  158774   0.516320   \n",
       "3       [State servant, Unemployed, Student, Businessm...   21758   0.070755   \n",
       "4                                                 Special       0   0.000000   \n",
       "5                                                 Missing       0   0.000000   \n",
       "Totals                                                     307511   1.000000   \n",
       "\n",
       "        Non-event  Event  Event rate        WoE        IV        JS  \n",
       "0           52380   2982    0.053864   0.433445  0.028249  0.003504  \n",
       "1           66257   5360    0.074843  0.0820916  0.001516  0.000189  \n",
       "2          143550  15224    0.095885  -0.188675  0.019895  0.002483  \n",
       "3           20499   1259    0.057864   0.357573  0.007795  0.000969  \n",
       "4               0      0    0.000000          0  0.000000  0.000000  \n",
       "5               0      0    0.000000          0  0.000000  0.000000  \n",
       "Totals     282686  24825    0.080729             0.057455  0.007146  "
      ]
     },
     "execution_count": 25,
     "metadata": {},
     "output_type": "execute_result"
    }
   ],
   "source": [
    "binning_table = optb.binning_table\n",
    "binning_table.build()"
   ]
  },
  {
   "cell_type": "markdown",
   "metadata": {},
   "source": [
    "You can use the method ``plot`` to visualize the histogram and WoE or event rate curve. Note that for categorical variables the optimal bins are **always** monotonically ascending with respect to the event rate. Finally, note that bin 3 corresponds to bin others and is represented by using a lighter color."
   ]
  },
  {
   "cell_type": "code",
   "execution_count": 26,
   "metadata": {},
   "outputs": [
    {
     "data": {
      "image/png": "[encoded data removed]",
      "text/plain": [
       "<Figure size 432x288 with 2 Axes>"
      ]
     },
     "metadata": {
      "needs_background": "light"
     },
     "output_type": "display_data"
    }
   ],
   "source": [
    "binning_table.plot(metric=\"event_rate\")"
   ]
  },
  {
   "cell_type": "markdown",
   "metadata": {},
   "source": [
    "Same as for the numerical dtype, we can transform our original data into WoE or event rate values. Transformation of data including categories not present during training return zero WoE or event rate."
   ]
  },
  {
   "cell_type": "code",
   "execution_count": 27,
   "metadata": {},
   "outputs": [],
   "source": [
    "x_new = [\"Businessman\", \"Working\", \"Unknown\"]"
   ]
  },
  {
   "cell_type": "code",
   "execution_count": 28,
   "metadata": {},
   "outputs": [],
   "source": [
    "x_transform_woe = optb.transform(x_new, metric=\"woe\")"
   ]
  },
  {
   "cell_type": "code",
   "execution_count": 29,
   "metadata": {},
   "outputs": [
    {
     "data": {
      "text/html": [
       "<div>\n",
       "<style scoped>\n",
       "    .dataframe tbody tr th:only-of-type {\n",
       "        vertical-align: middle;\n",
       "    }\n",
       "\n",
       "    .dataframe tbody tr th {\n",
       "        vertical-align: top;\n",
       "    }\n",
       "\n",
       "    .dataframe thead th {\n",
       "        text-align: right;\n",
       "    }\n",
       "</style>\n",
       "<table border=\"1\" class=\"dataframe\">\n",
       "  <thead>\n",
       "    <tr style=\"text-align: right;\">\n",
       "      <th></th>\n",
       "      <th>NAME_INCOME_TYPE</th>\n",
       "      <th>WoE</th>\n",
       "    </tr>\n",
       "  </thead>\n",
       "  <tbody>\n",
       "    <tr>\n",
       "      <th>0</th>\n",
       "      <td>Businessman</td>\n",
       "      <td>0.357573</td>\n",
       "    </tr>\n",
       "    <tr>\n",
       "      <th>1</th>\n",
       "      <td>Working</td>\n",
       "      <td>-0.188675</td>\n",
       "    </tr>\n",
       "    <tr>\n",
       "      <th>2</th>\n",
       "      <td>Unknown</td>\n",
       "      <td>0.000000</td>\n",
       "    </tr>\n",
       "  </tbody>\n",
       "</table>\n",
       "</div>"
      ],
      "text/plain": [
       "  NAME_INCOME_TYPE       WoE\n",
       "0      Businessman  0.357573\n",
       "1          Working -0.188675\n",
       "2          Unknown  0.000000"
      ]
     },
     "execution_count": 29,
     "metadata": {},
     "output_type": "execute_result"
    }
   ],
   "source": [
    "pd.DataFrame({variable_cat: x_new, \"WoE\": x_transform_woe})"
   ]
  },
  {
   "cell_type": "markdown",
   "metadata": {},
   "source": [
    "## Advanced"
   ]
  },
  {
   "cell_type": "markdown",
   "metadata": {},
   "source": [
    "#### Optimal binning Information"
   ]
  },
  {
   "cell_type": "markdown",
   "metadata": {},
   "source": [
    "The ``OptimalBinning`` can print overview information about the options settings, problem statistics, and the solution of the computation. By default, ``print_level=1``."
   ]
  },
  {
   "cell_type": "code",
   "execution_count": 30,
   "metadata": {},
   "outputs": [
    {
     "data": {
      "text/plain": [
       "OptimalBinning(cat_cutoff=None, class_weight=None, dtype='numerical', gamma=0,\n",
       "               max_bin_n_event=None, max_bin_n_nonevent=None, max_bin_size=None,\n",
       "               max_n_bins=None, max_n_prebins=20, max_pvalue=None,\n",
       "               max_pvalue_policy='consecutive', min_bin_n_event=None,\n",
       "               min_bin_n_nonevent=None, min_bin_size=None,\n",
       "               min_event_rate_diff=0, min_n_bins=None, min_prebin_size=0.05,\n",
       "               mip_solver='bop', monotonic_trend='auto', name='mean radius',\n",
       "               outlier_detector=None, outlier_params=None,\n",
       "               prebinning_method='cart', solver='mip', special_codes=None,\n",
       "               split_digits=None, time_limit=100, user_splits=None,\n",
       "               user_splits_fixed=None, verbose=False)"
      ]
     },
     "execution_count": 30,
     "metadata": {},
     "output_type": "execute_result"
    }
   ],
   "source": [
    "optb = OptimalBinning(name=variable, dtype=\"numerical\", solver=\"mip\")\n",
    "optb.fit(x, y)"
   ]
  },
  {
   "cell_type": "markdown",
   "metadata": {},
   "source": [
    "If ``print_level=0``, a minimal output including the header, variable name, status, and total time are printed."
   ]
  },
  {
   "cell_type": "code",
   "execution_count": 31,
   "metadata": {},
   "outputs": [
    {
     "name": "stdout",
     "output_type": "stream",
     "text": [
      "optbinning (Version 0.6.0)\n",
      "Copyright (c) 2019-2020 Guillermo Navas-Palencia, Apache License 2.0\n",
      "\n",
      "  Name    : mean radius                     \n",
      "  Status  : OPTIMAL                         \n",
      "\n",
      "  Time    : 0.0329  sec\n",
      "\n"
     ]
    }
   ],
   "source": [
    "optb.information(print_level=0)"
   ]
  },
  {
   "cell_type": "markdown",
   "metadata": {},
   "source": [
    "If ``print_level>=1``, statistics on the pre-binning phase and the solver are printed. More detailed timing statistics are also included."
   ]
  },
  {
   "cell_type": "code",
   "execution_count": 32,
   "metadata": {},
   "outputs": [
    {
     "name": "stdout",
     "output_type": "stream",
     "text": [
      "optbinning (Version 0.6.0)\n",
      "Copyright (c) 2019-2020 Guillermo Navas-Palencia, Apache License 2.0\n",
      "\n",
      "  Name    : mean radius                     \n",
      "  Status  : OPTIMAL                         \n",
      "\n",
      "  Pre-binning statistics\n",
      "    Number of pre-bins                     9\n",
      "    Number of refinements                  1\n",
      "\n",
      "  Solver statistics\n",
      "    Type                                 mip\n",
      "    Number of variables                   45\n",
      "    Number of constraints                 85\n",
      "    Objective value                   5.0439\n",
      "    Best objective bound              5.0439\n",
      "\n",
      "  Timing\n",
      "    Total time                          0.03 sec\n",
      "    Pre-processing                      0.00 sec   (  1.52%)\n",
      "    Pre-binning                         0.00 sec   ( 13.18%)\n",
      "    Solver                              0.03 sec   ( 83.70%)\n",
      "    Post-processing                     0.00 sec   (  0.28%)\n",
      "\n"
     ]
    }
   ],
   "source": [
    "optb.information(print_level=1)"
   ]
  },
  {
   "cell_type": "markdown",
   "metadata": {},
   "source": [
    "If ``print_level=2``, the list of all options of the ``OptimalBinning`` are displayed. The output contains the option name, its current value and an indicator for how it was set. The unchanged options from the default settings are noted by \"d\", and the options set by the user changed from the default settings are noted by \"U\". This is inspired by the NAG solver e04mtc printed output, see https://www.nag.co.uk/numeric/cl/nagdoc_cl26/html/e04/e04mtc.html#fcomments."
   ]
  },
  {
   "cell_type": "code",
   "execution_count": 33,
   "metadata": {},
   "outputs": [
    {
     "name": "stdout",
     "output_type": "stream",
     "text": [
      "optbinning (Version 0.6.0)\n",
      "Copyright (c) 2019-2020 Guillermo Navas-Palencia, Apache License 2.0\n",
      "\n",
      "  Begin options\n",
      "    name                         mean radius   * U\n",
      "    dtype                          numerical   * d\n",
      "    prebinning_method                   cart   * d\n",
      "    solver                               mip   * U\n",
      "    max_n_prebins                         20   * d\n",
      "    min_prebin_size                     0.05   * d\n",
      "    min_n_bins                            no   * d\n",
      "    max_n_bins                            no   * d\n",
      "    min_bin_size                          no   * d\n",
      "    max_bin_size                          no   * d\n",
      "    min_bin_n_nonevent                    no   * d\n",
      "    max_bin_n_nonevent                    no   * d\n",
      "    min_bin_n_event                       no   * d\n",
      "    max_bin_n_event                       no   * d\n",
      "    monotonic_trend                     auto   * d\n",
      "    min_event_rate_diff                    0   * d\n",
      "    max_pvalue                            no   * d\n",
      "    max_pvalue_policy            consecutive   * d\n",
      "    gamma                                  0   * d\n",
      "    class_weight                          no   * d\n",
      "    cat_cutoff                            no   * d\n",
      "    user_splits                           no   * d\n",
      "    user_splits_fixed                     no   * d\n",
      "    special_codes                         no   * d\n",
      "    split_digits                          no   * d\n",
      "    mip_solver                           bop   * d\n",
      "    time_limit                           100   * d\n",
      "    verbose                            False   * d\n",
      "  End options\n",
      "\n",
      "  Name    : mean radius                     \n",
      "  Status  : OPTIMAL                         \n",
      "\n",
      "  Pre-binning statistics\n",
      "    Number of pre-bins                     9\n",
      "    Number of refinements                  1\n",
      "\n",
      "  Solver statistics\n",
      "    Type                                 mip\n",
      "    Number of variables                   45\n",
      "    Number of constraints                 85\n",
      "    Objective value                   5.0439\n",
      "    Best objective bound              5.0439\n",
      "\n",
      "  Timing\n",
      "    Total time                          0.03 sec\n",
      "    Pre-processing                      0.00 sec   (  1.52%)\n",
      "    Pre-binning                         0.00 sec   ( 13.18%)\n",
      "    Solver                              0.03 sec   ( 83.70%)\n",
      "    Post-processing                     0.00 sec   (  0.28%)\n",
      "\n"
     ]
    }
   ],
   "source": [
    "optb.information(print_level=2)"
   ]
  },
  {
   "cell_type": "markdown",
   "metadata": {},
   "source": [
    "#### Binning table statistical analysis"
   ]
  },
  {
   "cell_type": "markdown",
   "metadata": {},
   "source": [
    "The ``analysis`` method performs a statistical analysis of the binning table, computing the statistics Gini index, Information Value (IV), Jensen-Shannon divergence, and the quality score. Additionally, several statistical significance tests between consecutive bins of the contingency table are performed: a frequentist test using the Chi-square test or the Fisher's exact test, and a Bayesian A/B test using the beta distribution as a conjugate prior of the Bernoulli distribution."
   ]
  },
  {
   "cell_type": "code",
   "execution_count": 34,
   "metadata": {},
   "outputs": [
    {
     "name": "stdout",
     "output_type": "stream",
     "text": [
      "---------------------------------------------\n",
      "OptimalBinning: Binary Binning Table Analysis\n",
      "---------------------------------------------\n",
      "\n",
      "  General metrics\n",
      "\n",
      "    Gini index               0.12175489\n",
      "    IV (Jeffrey)             0.05745546\n",
      "    JS (Jensen-Shannon)      0.00714565\n",
      "    HHI                      0.35824301\n",
      "    HHI (normalized)         0.22989161\n",
      "    Cramer's V               0.06007763\n",
      "    Quality score            0.18240827\n",
      "\n",
      "  Significance tests\n",
      "\n",
      "     Bin A  Bin B  t-statistic       p-value      P[A > B]  P[B > A]\n",
      "         0      1   223.890188  1.281939e-50  4.799305e-71       1.0\n",
      "         1      2   268.591060  2.301360e-60  6.289833e-76       1.0\n",
      "\n"
     ]
    }
   ],
   "source": [
    "binning_table.analysis(pvalue_test=\"chi2\")"
   ]
  },
  {
   "cell_type": "code",
   "execution_count": 35,
   "metadata": {},
   "outputs": [
    {
     "name": "stdout",
     "output_type": "stream",
     "text": [
      "---------------------------------------------\n",
      "OptimalBinning: Binary Binning Table Analysis\n",
      "---------------------------------------------\n",
      "\n",
      "  General metrics\n",
      "\n",
      "    Gini index               0.12175489\n",
      "    IV (Jeffrey)             0.05745546\n",
      "    JS (Jensen-Shannon)      0.00714565\n",
      "    HHI                      0.35824301\n",
      "    HHI (normalized)         0.22989161\n",
      "    Cramer's V               0.06007763\n",
      "    Quality score            0.18240827\n",
      "\n",
      "  Significance tests\n",
      "\n",
      "     Bin A  Bin B  odd ratio       p-value      P[A > B]  P[B > A]\n",
      "         0      1   1.420990  2.091361e-51  4.799305e-71       1.0\n",
      "         1      2   1.310969  4.434577e-62  6.289833e-76       1.0\n",
      "\n"
     ]
    }
   ],
   "source": [
    "binning_table.analysis(pvalue_test=\"fisher\")"
   ]
  },
  {
   "cell_type": "markdown",
   "metadata": {},
   "source": [
    "#### Event rate / WoE monotonicity"
   ]
  },
  {
   "cell_type": "markdown",
   "metadata": {},
   "source": [
    "The ``monotonic_trend`` option permits forcing a monotonic trend to the event rate curve. The default setting \"auto\" should be the preferred option, however, some business constraints might require to impose different trends. The default setting \"auto\" chooses the monotonic trend most likely to maximize the information value from the options \"ascending\", \"descending\", \"peak\" and \"valley\" using a machine-learning-based classifier."
   ]
  },
  {
   "cell_type": "code",
   "execution_count": 36,
   "metadata": {},
   "outputs": [],
   "source": [
    "variable = \"mean texture\"\n",
    "x = df[variable].values\n",
    "y = data.target"
   ]
  },
  {
   "cell_type": "code",
   "execution_count": 37,
   "metadata": {},
   "outputs": [
    {
     "data": {
      "text/plain": [
       "OptimalBinning(cat_cutoff=None, class_weight=None, dtype='numerical', gamma=0,\n",
       "               max_bin_n_event=None, max_bin_n_nonevent=None, max_bin_size=None,\n",
       "               max_n_bins=None, max_n_prebins=20, max_pvalue=None,\n",
       "               max_pvalue_policy='consecutive', min_bin_n_event=None,\n",
       "               min_bin_n_nonevent=None, min_bin_size=None,\n",
       "               min_event_rate_diff=0, min_n_bins=None, min_prebin_size=0.05,\n",
       "               mip_solver='bop', monotonic_trend='auto', name='mean texture',\n",
       "               outlier_detector=None, outlier_params=None,\n",
       "               prebinning_method='cart', solver='cp', special_codes=None,\n",
       "               split_digits=None, time_limit=100, user_splits=None,\n",
       "               user_splits_fixed=None, verbose=False)"
      ]
     },
     "execution_count": 37,
     "metadata": {},
     "output_type": "execute_result"
    }
   ],
   "source": [
    "optb = OptimalBinning(name=variable, dtype=\"numerical\", solver=\"cp\")\n",
    "optb.fit(x, y)"
   ]
  },
  {
   "cell_type": "code",
   "execution_count": 38,
   "metadata": {},
   "outputs": [
    {
     "data": {
      "text/html": [
       "<div>\n",
       "<style scoped>\n",
       "    .dataframe tbody tr th:only-of-type {\n",
       "        vertical-align: middle;\n",
       "    }\n",
       "\n",
       "    .dataframe tbody tr th {\n",
       "        vertical-align: top;\n",
       "    }\n",
       "\n",
       "    .dataframe thead th {\n",
       "        text-align: right;\n",
       "    }\n",
       "</style>\n",
       "<table border=\"1\" class=\"dataframe\">\n",
       "  <thead>\n",
       "    <tr style=\"text-align: right;\">\n",
       "      <th></th>\n",
       "      <th>Bin</th>\n",
       "      <th>Count</th>\n",
       "      <th>Count (%)</th>\n",
       "      <th>Non-event</th>\n",
       "      <th>Event</th>\n",
       "      <th>Event rate</th>\n",
       "      <th>WoE</th>\n",
       "      <th>IV</th>\n",
       "      <th>JS</th>\n",
       "    </tr>\n",
       "  </thead>\n",
       "  <tbody>\n",
       "    <tr>\n",
       "      <th>0</th>\n",
       "      <td>[-inf, 15.05)</td>\n",
       "      <td>92</td>\n",
       "      <td>0.161687</td>\n",
       "      <td>4</td>\n",
       "      <td>88</td>\n",
       "      <td>0.956522</td>\n",
       "      <td>-2.56989</td>\n",
       "      <td>0.584986</td>\n",
       "      <td>0.057939</td>\n",
       "    </tr>\n",
       "    <tr>\n",
       "      <th>1</th>\n",
       "      <td>[15.05, 16.39)</td>\n",
       "      <td>61</td>\n",
       "      <td>0.107206</td>\n",
       "      <td>8</td>\n",
       "      <td>53</td>\n",
       "      <td>0.868852</td>\n",
       "      <td>-1.3697</td>\n",
       "      <td>0.151658</td>\n",
       "      <td>0.017602</td>\n",
       "    </tr>\n",
       "    <tr>\n",
       "      <th>2</th>\n",
       "      <td>[16.39, 17.03)</td>\n",
       "      <td>29</td>\n",
       "      <td>0.050967</td>\n",
       "      <td>6</td>\n",
       "      <td>23</td>\n",
       "      <td>0.793103</td>\n",
       "      <td>-0.822585</td>\n",
       "      <td>0.029715</td>\n",
       "      <td>0.003613</td>\n",
       "    </tr>\n",
       "    <tr>\n",
       "      <th>3</th>\n",
       "      <td>[17.03, 18.46)</td>\n",
       "      <td>79</td>\n",
       "      <td>0.138840</td>\n",
       "      <td>17</td>\n",
       "      <td>62</td>\n",
       "      <td>0.784810</td>\n",
       "      <td>-0.772772</td>\n",
       "      <td>0.072239</td>\n",
       "      <td>0.008812</td>\n",
       "    </tr>\n",
       "    <tr>\n",
       "      <th>4</th>\n",
       "      <td>[18.46, 19.47)</td>\n",
       "      <td>55</td>\n",
       "      <td>0.096661</td>\n",
       "      <td>20</td>\n",
       "      <td>35</td>\n",
       "      <td>0.636364</td>\n",
       "      <td>-0.0384663</td>\n",
       "      <td>0.000142</td>\n",
       "      <td>0.000018</td>\n",
       "    </tr>\n",
       "    <tr>\n",
       "      <th>5</th>\n",
       "      <td>[19.47, 20.20)</td>\n",
       "      <td>36</td>\n",
       "      <td>0.063269</td>\n",
       "      <td>18</td>\n",
       "      <td>18</td>\n",
       "      <td>0.500000</td>\n",
       "      <td>0.52115</td>\n",
       "      <td>0.017972</td>\n",
       "      <td>0.002221</td>\n",
       "    </tr>\n",
       "    <tr>\n",
       "      <th>6</th>\n",
       "      <td>[20.20, 21.71)</td>\n",
       "      <td>72</td>\n",
       "      <td>0.126538</td>\n",
       "      <td>43</td>\n",
       "      <td>29</td>\n",
       "      <td>0.402778</td>\n",
       "      <td>0.915054</td>\n",
       "      <td>0.111268</td>\n",
       "      <td>0.013443</td>\n",
       "    </tr>\n",
       "    <tr>\n",
       "      <th>7</th>\n",
       "      <td>[21.71, 22.74)</td>\n",
       "      <td>40</td>\n",
       "      <td>0.070299</td>\n",
       "      <td>27</td>\n",
       "      <td>13</td>\n",
       "      <td>0.325000</td>\n",
       "      <td>1.25204</td>\n",
       "      <td>0.113865</td>\n",
       "      <td>0.013371</td>\n",
       "    </tr>\n",
       "    <tr>\n",
       "      <th>8</th>\n",
       "      <td>[22.74, 24.00)</td>\n",
       "      <td>29</td>\n",
       "      <td>0.050967</td>\n",
       "      <td>24</td>\n",
       "      <td>5</td>\n",
       "      <td>0.172414</td>\n",
       "      <td>2.08977</td>\n",
       "      <td>0.207309</td>\n",
       "      <td>0.022035</td>\n",
       "    </tr>\n",
       "    <tr>\n",
       "      <th>9</th>\n",
       "      <td>[24.00, 26.98)</td>\n",
       "      <td>43</td>\n",
       "      <td>0.075571</td>\n",
       "      <td>30</td>\n",
       "      <td>13</td>\n",
       "      <td>0.302326</td>\n",
       "      <td>1.3574</td>\n",
       "      <td>0.142656</td>\n",
       "      <td>0.016578</td>\n",
       "    </tr>\n",
       "    <tr>\n",
       "      <th>10</th>\n",
       "      <td>[26.98, inf)</td>\n",
       "      <td>33</td>\n",
       "      <td>0.057996</td>\n",
       "      <td>15</td>\n",
       "      <td>18</td>\n",
       "      <td>0.545455</td>\n",
       "      <td>0.338828</td>\n",
       "      <td>0.006890</td>\n",
       "      <td>0.000857</td>\n",
       "    </tr>\n",
       "    <tr>\n",
       "      <th>11</th>\n",
       "      <td>Special</td>\n",
       "      <td>0</td>\n",
       "      <td>0.000000</td>\n",
       "      <td>0</td>\n",
       "      <td>0</td>\n",
       "      <td>0.000000</td>\n",
       "      <td>0</td>\n",
       "      <td>0.000000</td>\n",
       "      <td>0.000000</td>\n",
       "    </tr>\n",
       "    <tr>\n",
       "      <th>12</th>\n",
       "      <td>Missing</td>\n",
       "      <td>0</td>\n",
       "      <td>0.000000</td>\n",
       "      <td>0</td>\n",
       "      <td>0</td>\n",
       "      <td>0.000000</td>\n",
       "      <td>0</td>\n",
       "      <td>0.000000</td>\n",
       "      <td>0.000000</td>\n",
       "    </tr>\n",
       "    <tr>\n",
       "      <th>Totals</th>\n",
       "      <td></td>\n",
       "      <td>569</td>\n",
       "      <td>1.000000</td>\n",
       "      <td>212</td>\n",
       "      <td>357</td>\n",
       "      <td>0.627417</td>\n",
       "      <td></td>\n",
       "      <td>1.438701</td>\n",
       "      <td>0.156488</td>\n",
       "    </tr>\n",
       "  </tbody>\n",
       "</table>\n",
       "</div>"
      ],
      "text/plain": [
       "                   Bin  Count  Count (%)  Non-event  Event  Event rate  \\\n",
       "0        [-inf, 15.05)     92   0.161687          4     88    0.956522   \n",
       "1       [15.05, 16.39)     61   0.107206          8     53    0.868852   \n",
       "2       [16.39, 17.03)     29   0.050967          6     23    0.793103   \n",
       "3       [17.03, 18.46)     79   0.138840         17     62    0.784810   \n",
       "4       [18.46, 19.47)     55   0.096661         20     35    0.636364   \n",
       "5       [19.47, 20.20)     36   0.063269         18     18    0.500000   \n",
       "6       [20.20, 21.71)     72   0.126538         43     29    0.402778   \n",
       "7       [21.71, 22.74)     40   0.070299         27     13    0.325000   \n",
       "8       [22.74, 24.00)     29   0.050967         24      5    0.172414   \n",
       "9       [24.00, 26.98)     43   0.075571         30     13    0.302326   \n",
       "10        [26.98, inf)     33   0.057996         15     18    0.545455   \n",
       "11             Special      0   0.000000          0      0    0.000000   \n",
       "12             Missing      0   0.000000          0      0    0.000000   \n",
       "Totals                    569   1.000000        212    357    0.627417   \n",
       "\n",
       "              WoE        IV        JS  \n",
       "0        -2.56989  0.584986  0.057939  \n",
       "1         -1.3697  0.151658  0.017602  \n",
       "2       -0.822585  0.029715  0.003613  \n",
       "3       -0.772772  0.072239  0.008812  \n",
       "4      -0.0384663  0.000142  0.000018  \n",
       "5         0.52115  0.017972  0.002221  \n",
       "6        0.915054  0.111268  0.013443  \n",
       "7         1.25204  0.113865  0.013371  \n",
       "8         2.08977  0.207309  0.022035  \n",
       "9          1.3574  0.142656  0.016578  \n",
       "10       0.338828  0.006890  0.000857  \n",
       "11              0  0.000000  0.000000  \n",
       "12              0  0.000000  0.000000  \n",
       "Totals             1.438701  0.156488  "
      ]
     },
     "execution_count": 38,
     "metadata": {},
     "output_type": "execute_result"
    }
   ],
   "source": [
    "binning_table = optb.binning_table\n",
    "binning_table.build()"
   ]
  },
  {
   "cell_type": "code",
   "execution_count": 39,
   "metadata": {},
   "outputs": [
    {
     "data": {
      "image/png": "[encoded data removed]",
      "text/plain": [
       "<Figure size 432x288 with 2 Axes>"
      ]
     },
     "metadata": {
      "needs_background": "light"
     },
     "output_type": "display_data"
    }
   ],
   "source": [
    "binning_table.plot(metric=\"event_rate\")"
   ]
  },
  {
   "cell_type": "markdown",
   "metadata": {},
   "source": [
    "For example, we can force the variable mean texture to be monotonically descending with respect to the probability of having breast cancer."
   ]
  },
  {
   "cell_type": "code",
   "execution_count": 40,
   "metadata": {},
   "outputs": [
    {
     "data": {
      "text/plain": [
       "OptimalBinning(cat_cutoff=None, class_weight=None, dtype='numerical', gamma=0,\n",
       "               max_bin_n_event=None, max_bin_n_nonevent=None, max_bin_size=None,\n",
       "               max_n_bins=None, max_n_prebins=20, max_pvalue=None,\n",
       "               max_pvalue_policy='consecutive', min_bin_n_event=None,\n",
       "               min_bin_n_nonevent=None, min_bin_size=None,\n",
       "               min_event_rate_diff=0, min_n_bins=None, min_prebin_size=0.05,\n",
       "               mip_solver='bop', monotonic_trend='descending',\n",
       "               name='mean texture', outlier_detector=None, outlier_params=None,\n",
       "               prebinning_method='cart', solver='cp', special_codes=None,\n",
       "               split_digits=None, time_limit=100, user_splits=None,\n",
       "               user_splits_fixed=None, verbose=False)"
      ]
     },
     "execution_count": 40,
     "metadata": {},
     "output_type": "execute_result"
    }
   ],
   "source": [
    "optb = OptimalBinning(name=variable, dtype=\"numerical\", solver=\"cp\",\n",
    "                      monotonic_trend=\"descending\")\n",
    "optb.fit(x, y)"
   ]
  },
  {
   "cell_type": "code",
   "execution_count": 41,
   "metadata": {},
   "outputs": [
    {
     "data": {
      "image/png": "[encoded data removed]",
      "text/plain": [
       "<Figure size 432x288 with 2 Axes>"
      ]
     },
     "metadata": {
      "needs_background": "light"
     },
     "output_type": "display_data"
    }
   ],
   "source": [
    "binning_table = optb.binning_table\n",
    "binning_table.build()\n",
    "binning_table.plot(metric=\"event_rate\")"
   ]
  },
  {
   "cell_type": "markdown",
   "metadata": {},
   "source": [
    "#### Reduction of dominating bins"
   ]
  },
  {
   "cell_type": "markdown",
   "metadata": {},
   "source": [
    "Version 0.3.0 introduced a new constraint to produce more homogeneous solutions by reducing a concentration metric such as the difference between the largest and smallest bin. The added regularization parameter ``gamma`` controls the importance the reduction term. Larger values specify stronger regularization. Continuing with the previous example"
   ]
  },
  {
   "cell_type": "code",
   "execution_count": 42,
   "metadata": {},
   "outputs": [
    {
     "data": {
      "text/plain": [
       "OptimalBinning(cat_cutoff=None, class_weight=None, dtype='numerical', gamma=0.5,\n",
       "               max_bin_n_event=None, max_bin_n_nonevent=None, max_bin_size=None,\n",
       "               max_n_bins=None, max_n_prebins=20, max_pvalue=None,\n",
       "               max_pvalue_policy='consecutive', min_bin_n_event=None,\n",
       "               min_bin_n_nonevent=None, min_bin_size=None,\n",
       "               min_event_rate_diff=0, min_n_bins=None, min_prebin_size=0.05,\n",
       "               mip_solver='bop', monotonic_trend='descending',\n",
       "               name='mean texture', outlier_detector=None, outlier_params=None,\n",
       "               prebinning_method='cart', solver='cp', special_codes=None,\n",
       "               split_digits=None, time_limit=100, user_splits=None,\n",
       "               user_splits_fixed=None, verbose=False)"
      ]
     },
     "execution_count": 42,
     "metadata": {},
     "output_type": "execute_result"
    }
   ],
   "source": [
    "optb = OptimalBinning(name=variable, dtype=\"numerical\", solver=\"cp\",\n",
    "                      monotonic_trend=\"descending\", gamma=0.5)\n",
    "optb.fit(x, y)"
   ]
  },
  {
   "cell_type": "code",
   "execution_count": 43,
   "metadata": {},
   "outputs": [
    {
     "data": {
      "image/png": "[encoded data removed]",
      "text/plain": [
       "<Figure size 432x288 with 2 Axes>"
      ]
     },
     "metadata": {
      "needs_background": "light"
     },
     "output_type": "display_data"
    }
   ],
   "source": [
    "binning_table = optb.binning_table\n",
    "binning_table.build()\n",
    "binning_table.plot(metric=\"event_rate\")"
   ]
  },
  {
   "cell_type": "markdown",
   "metadata": {},
   "source": [
    "Note that the new solution produces more homogeneous bins, removing the dominance of bin 7 previously observed."
   ]
  },
  {
   "cell_type": "markdown",
   "metadata": {},
   "source": [
    "#### User-defined split points"
   ]
  },
  {
   "cell_type": "markdown",
   "metadata": {},
   "source": [
    "In some situations, we have defined split points or bins required to satisfy a priori belief,  knowledge or business constraint. The ``OptimalBinning`` permits to pass user-defined split points for numerical variables and user-defined bins for categorical variables. The supplied information is used as a pre-binning, disallowing any pre-binning method set by the user. Furthermore, version 0.5.0 introduced ``user_splits_fixed`` parameter, to allow the user to fix some user-defined splits, so these must appear in the solution."
   ]
  },
  {
   "cell_type": "markdown",
   "metadata": {},
   "source": [
    "Example numerical variable:"
   ]
  },
  {
   "cell_type": "code",
   "execution_count": 44,
   "metadata": {},
   "outputs": [],
   "source": [
    "user_splits =       [  14,    15,    16,    17,    20,    21,    22,    27]\n",
    "user_splits_fixed = [False, True,  True, False, False, False, False, False]"
   ]
  },
  {
   "cell_type": "code",
   "execution_count": 45,
   "metadata": {},
   "outputs": [
    {
     "data": {
      "text/plain": [
       "OptimalBinning(cat_cutoff=None, class_weight=None, dtype='numerical', gamma=0,\n",
       "               max_bin_n_event=None, max_bin_n_nonevent=None, max_bin_size=None,\n",
       "               max_n_bins=None, max_n_prebins=20, max_pvalue=None,\n",
       "               max_pvalue_policy='consecutive', min_bin_n_event=None,\n",
       "               min_bin_n_nonevent=None, min_bin_size=None,\n",
       "               min_event_rate_diff=0, min_n_bins=None, min_prebin_size=0.05,\n",
       "               mip_solver='bop', monotonic_trend='auto', name='mean texture',\n",
       "               outlier_detector=None, outlier_params=None,\n",
       "               prebinning_method='cart', solver='mip', special_codes=None,\n",
       "               split_digits=None, time_limit=100,\n",
       "               user_splits=[14, 15, 16, 17, 20, 21, 22, 27],\n",
       "               user_splits_fixed=[False, True, True, False, False, False, False,\n",
       "                                  False],\n",
       "               verbose=False)"
      ]
     },
     "execution_count": 45,
     "metadata": {},
     "output_type": "execute_result"
    }
   ],
   "source": [
    "optb = OptimalBinning(name=variable, dtype=\"numerical\", solver=\"mip\",\n",
    "                      user_splits=user_splits, user_splits_fixed=user_splits_fixed)\n",
    "\n",
    "optb.fit(x, y)"
   ]
  },
  {
   "cell_type": "code",
   "execution_count": 46,
   "metadata": {},
   "outputs": [
    {
     "data": {
      "text/html": [
       "<div>\n",
       "<style scoped>\n",
       "    .dataframe tbody tr th:only-of-type {\n",
       "        vertical-align: middle;\n",
       "    }\n",
       "\n",
       "    .dataframe tbody tr th {\n",
       "        vertical-align: top;\n",
       "    }\n",
       "\n",
       "    .dataframe thead th {\n",
       "        text-align: right;\n",
       "    }\n",
       "</style>\n",
       "<table border=\"1\" class=\"dataframe\">\n",
       "  <thead>\n",
       "    <tr style=\"text-align: right;\">\n",
       "      <th></th>\n",
       "      <th>Bin</th>\n",
       "      <th>Count</th>\n",
       "      <th>Count (%)</th>\n",
       "      <th>Non-event</th>\n",
       "      <th>Event</th>\n",
       "      <th>Event rate</th>\n",
       "      <th>WoE</th>\n",
       "      <th>IV</th>\n",
       "      <th>JS</th>\n",
       "    </tr>\n",
       "  </thead>\n",
       "  <tbody>\n",
       "    <tr>\n",
       "      <th>0</th>\n",
       "      <td>[-inf, 14.00)</td>\n",
       "      <td>54</td>\n",
       "      <td>0.094903</td>\n",
       "      <td>2</td>\n",
       "      <td>52</td>\n",
       "      <td>0.962963</td>\n",
       "      <td>-2.73695</td>\n",
       "      <td>0.372839</td>\n",
       "      <td>0.035974</td>\n",
       "    </tr>\n",
       "    <tr>\n",
       "      <th>1</th>\n",
       "      <td>[14.00, 15.00)</td>\n",
       "      <td>37</td>\n",
       "      <td>0.065026</td>\n",
       "      <td>2</td>\n",
       "      <td>35</td>\n",
       "      <td>0.945946</td>\n",
       "      <td>-2.34105</td>\n",
       "      <td>0.207429</td>\n",
       "      <td>0.021268</td>\n",
       "    </tr>\n",
       "    <tr>\n",
       "      <th>2</th>\n",
       "      <td>[15.00, 16.00)</td>\n",
       "      <td>43</td>\n",
       "      <td>0.075571</td>\n",
       "      <td>7</td>\n",
       "      <td>36</td>\n",
       "      <td>0.837209</td>\n",
       "      <td>-1.11646</td>\n",
       "      <td>0.075720</td>\n",
       "      <td>0.009002</td>\n",
       "    </tr>\n",
       "    <tr>\n",
       "      <th>3</th>\n",
       "      <td>[16.00, 20.00)</td>\n",
       "      <td>210</td>\n",
       "      <td>0.369069</td>\n",
       "      <td>59</td>\n",
       "      <td>151</td>\n",
       "      <td>0.719048</td>\n",
       "      <td>-0.418593</td>\n",
       "      <td>0.060557</td>\n",
       "      <td>0.007515</td>\n",
       "    </tr>\n",
       "    <tr>\n",
       "      <th>4</th>\n",
       "      <td>[20.00, 21.00)</td>\n",
       "      <td>45</td>\n",
       "      <td>0.079086</td>\n",
       "      <td>26</td>\n",
       "      <td>19</td>\n",
       "      <td>0.422222</td>\n",
       "      <td>0.834807</td>\n",
       "      <td>0.057952</td>\n",
       "      <td>0.007041</td>\n",
       "    </tr>\n",
       "    <tr>\n",
       "      <th>5</th>\n",
       "      <td>[21.00, 22.00)</td>\n",
       "      <td>49</td>\n",
       "      <td>0.086116</td>\n",
       "      <td>30</td>\n",
       "      <td>19</td>\n",
       "      <td>0.387755</td>\n",
       "      <td>0.977908</td>\n",
       "      <td>0.086338</td>\n",
       "      <td>0.010382</td>\n",
       "    </tr>\n",
       "    <tr>\n",
       "      <th>6</th>\n",
       "      <td>[22.00, 27.00)</td>\n",
       "      <td>99</td>\n",
       "      <td>0.173989</td>\n",
       "      <td>71</td>\n",
       "      <td>28</td>\n",
       "      <td>0.282828</td>\n",
       "      <td>1.45162</td>\n",
       "      <td>0.372304</td>\n",
       "      <td>0.042839</td>\n",
       "    </tr>\n",
       "    <tr>\n",
       "      <th>7</th>\n",
       "      <td>[27.00, inf)</td>\n",
       "      <td>32</td>\n",
       "      <td>0.056239</td>\n",
       "      <td>15</td>\n",
       "      <td>17</td>\n",
       "      <td>0.531250</td>\n",
       "      <td>0.395986</td>\n",
       "      <td>0.009161</td>\n",
       "      <td>0.001138</td>\n",
       "    </tr>\n",
       "    <tr>\n",
       "      <th>8</th>\n",
       "      <td>Special</td>\n",
       "      <td>0</td>\n",
       "      <td>0.000000</td>\n",
       "      <td>0</td>\n",
       "      <td>0</td>\n",
       "      <td>0.000000</td>\n",
       "      <td>0</td>\n",
       "      <td>0.000000</td>\n",
       "      <td>0.000000</td>\n",
       "    </tr>\n",
       "    <tr>\n",
       "      <th>9</th>\n",
       "      <td>Missing</td>\n",
       "      <td>0</td>\n",
       "      <td>0.000000</td>\n",
       "      <td>0</td>\n",
       "      <td>0</td>\n",
       "      <td>0.000000</td>\n",
       "      <td>0</td>\n",
       "      <td>0.000000</td>\n",
       "      <td>0.000000</td>\n",
       "    </tr>\n",
       "    <tr>\n",
       "      <th>Totals</th>\n",
       "      <td></td>\n",
       "      <td>569</td>\n",
       "      <td>1.000000</td>\n",
       "      <td>212</td>\n",
       "      <td>357</td>\n",
       "      <td>0.627417</td>\n",
       "      <td></td>\n",
       "      <td>1.242301</td>\n",
       "      <td>0.135158</td>\n",
       "    </tr>\n",
       "  </tbody>\n",
       "</table>\n",
       "</div>"
      ],
      "text/plain": [
       "                   Bin  Count  Count (%)  Non-event  Event  Event rate  \\\n",
       "0        [-inf, 14.00)     54   0.094903          2     52    0.962963   \n",
       "1       [14.00, 15.00)     37   0.065026          2     35    0.945946   \n",
       "2       [15.00, 16.00)     43   0.075571          7     36    0.837209   \n",
       "3       [16.00, 20.00)    210   0.369069         59    151    0.719048   \n",
       "4       [20.00, 21.00)     45   0.079086         26     19    0.422222   \n",
       "5       [21.00, 22.00)     49   0.086116         30     19    0.387755   \n",
       "6       [22.00, 27.00)     99   0.173989         71     28    0.282828   \n",
       "7         [27.00, inf)     32   0.056239         15     17    0.531250   \n",
       "8              Special      0   0.000000          0      0    0.000000   \n",
       "9              Missing      0   0.000000          0      0    0.000000   \n",
       "Totals                    569   1.000000        212    357    0.627417   \n",
       "\n",
       "             WoE        IV        JS  \n",
       "0       -2.73695  0.372839  0.035974  \n",
       "1       -2.34105  0.207429  0.021268  \n",
       "2       -1.11646  0.075720  0.009002  \n",
       "3      -0.418593  0.060557  0.007515  \n",
       "4       0.834807  0.057952  0.007041  \n",
       "5       0.977908  0.086338  0.010382  \n",
       "6        1.45162  0.372304  0.042839  \n",
       "7       0.395986  0.009161  0.001138  \n",
       "8              0  0.000000  0.000000  \n",
       "9              0  0.000000  0.000000  \n",
       "Totals            1.242301  0.135158  "
      ]
     },
     "execution_count": 46,
     "metadata": {},
     "output_type": "execute_result"
    }
   ],
   "source": [
    "binning_table = optb.binning_table\n",
    "binning_table.build()"
   ]
  },
  {
   "cell_type": "code",
   "execution_count": 47,
   "metadata": {},
   "outputs": [
    {
     "name": "stdout",
     "output_type": "stream",
     "text": [
      "optbinning (Version 0.6.0)\n",
      "Copyright (c) 2019-2020 Guillermo Navas-Palencia, Apache License 2.0\n",
      "\n",
      "  Name    : mean texture                    \n",
      "  Status  : OPTIMAL                         \n",
      "\n",
      "  Pre-binning statistics\n",
      "    Number of pre-bins                     9\n",
      "    Number of refinements                  0\n",
      "\n",
      "  Solver statistics\n",
      "    Type                                 mip\n",
      "    Number of variables                   55\n",
      "    Number of constraints                137\n",
      "    Objective value                   1.2423\n",
      "    Best objective bound              1.2423\n",
      "\n",
      "  Timing\n",
      "    Total time                          0.05 sec\n",
      "    Pre-processing                      0.00 sec   (  0.75%)\n",
      "    Pre-binning                         0.00 sec   (  1.20%)\n",
      "    Solver                              0.05 sec   ( 96.94%)\n",
      "    Post-processing                     0.00 sec   (  0.12%)\n",
      "\n"
     ]
    }
   ],
   "source": [
    "optb.information()"
   ]
  },
  {
   "cell_type": "markdown",
   "metadata": {},
   "source": [
    "Example categorical variable:"
   ]
  },
  {
   "cell_type": "code",
   "execution_count": 48,
   "metadata": {},
   "outputs": [],
   "source": [
    "user_splits = [['Businessman'], \n",
    "               ['Working'],\n",
    "               ['Commercial associate'],\n",
    "               ['Pensioner', 'Maternity leave'],\n",
    "               ['State servant'],\n",
    "               ['Unemployed', 'Student']]"
   ]
  },
  {
   "cell_type": "code",
   "execution_count": 49,
   "metadata": {},
   "outputs": [
    {
     "data": {
      "text/plain": [
       "OptimalBinning(cat_cutoff=None, class_weight=None, dtype='categorical', gamma=0,\n",
       "               max_bin_n_event=None, max_bin_n_nonevent=None, max_bin_size=None,\n",
       "               max_n_bins=None, max_n_prebins=20, max_pvalue=None,\n",
       "               max_pvalue_policy='consecutive', min_bin_n_event=None,\n",
       "               min_bin_n_nonevent=None, min_bin_size=None,\n",
       "               min_event_rate_diff=0, min_n_bins=None, min_prebin_size=0.05,\n",
       "               mip_sol...tonic_trend='auto',\n",
       "               name='NAME_INCOME_TYPE', outlier_detector=None,\n",
       "               outlier_params=None, prebinning_method='cart', solver='cp',\n",
       "               special_codes=None, split_digits=None, time_limit=100,\n",
       "               user_splits=[['Businessman'], ['Working'],\n",
       "                            ['Commercial associate'],\n",
       "                            ['Pensioner', 'Maternity leave'], ['State servant'],\n",
       "                            ['Unemployed', 'Student']],\n",
       "               user_splits_fixed=None, verbose=False)"
      ]
     },
     "execution_count": 49,
     "metadata": {},
     "output_type": "execute_result"
    }
   ],
   "source": [
    "optb = OptimalBinning(name=variable_cat, dtype=\"categorical\", solver=\"cp\",\n",
    "                      user_splits=user_splits)\n",
    "\n",
    "optb.fit(x_cat, y_cat)"
   ]
  },
  {
   "cell_type": "code",
   "execution_count": 50,
   "metadata": {},
   "outputs": [
    {
     "data": {
      "text/html": [
       "<div>\n",
       "<style scoped>\n",
       "    .dataframe tbody tr th:only-of-type {\n",
       "        vertical-align: middle;\n",
       "    }\n",
       "\n",
       "    .dataframe tbody tr th {\n",
       "        vertical-align: top;\n",
       "    }\n",
       "\n",
       "    .dataframe thead th {\n",
       "        text-align: right;\n",
       "    }\n",
       "</style>\n",
       "<table border=\"1\" class=\"dataframe\">\n",
       "  <thead>\n",
       "    <tr style=\"text-align: right;\">\n",
       "      <th></th>\n",
       "      <th>Bin</th>\n",
       "      <th>Count</th>\n",
       "      <th>Count (%)</th>\n",
       "      <th>Non-event</th>\n",
       "      <th>Event</th>\n",
       "      <th>Event rate</th>\n",
       "      <th>WoE</th>\n",
       "      <th>IV</th>\n",
       "      <th>JS</th>\n",
       "    </tr>\n",
       "  </thead>\n",
       "  <tbody>\n",
       "    <tr>\n",
       "      <th>0</th>\n",
       "      <td>[Businessman, Pensioner, Maternity leave, Stat...</td>\n",
       "      <td>77080</td>\n",
       "      <td>0.250658</td>\n",
       "      <td>72847</td>\n",
       "      <td>4233</td>\n",
       "      <td>0.054917</td>\n",
       "      <td>0.412965</td>\n",
       "      <td>0.036003</td>\n",
       "      <td>0.004469</td>\n",
       "    </tr>\n",
       "    <tr>\n",
       "      <th>1</th>\n",
       "      <td>[Commercial associate, Working]</td>\n",
       "      <td>230391</td>\n",
       "      <td>0.749212</td>\n",
       "      <td>209807</td>\n",
       "      <td>20584</td>\n",
       "      <td>0.089344</td>\n",
       "      <td>-0.110812</td>\n",
       "      <td>0.009638</td>\n",
       "      <td>0.001204</td>\n",
       "    </tr>\n",
       "    <tr>\n",
       "      <th>2</th>\n",
       "      <td>[Unemployed, Student]</td>\n",
       "      <td>40</td>\n",
       "      <td>0.000130</td>\n",
       "      <td>32</td>\n",
       "      <td>8</td>\n",
       "      <td>0.200000</td>\n",
       "      <td>-1.04619</td>\n",
       "      <td>0.000219</td>\n",
       "      <td>0.000026</td>\n",
       "    </tr>\n",
       "    <tr>\n",
       "      <th>3</th>\n",
       "      <td>Special</td>\n",
       "      <td>0</td>\n",
       "      <td>0.000000</td>\n",
       "      <td>0</td>\n",
       "      <td>0</td>\n",
       "      <td>0.000000</td>\n",
       "      <td>0</td>\n",
       "      <td>0.000000</td>\n",
       "      <td>0.000000</td>\n",
       "    </tr>\n",
       "    <tr>\n",
       "      <th>4</th>\n",
       "      <td>Missing</td>\n",
       "      <td>0</td>\n",
       "      <td>0.000000</td>\n",
       "      <td>0</td>\n",
       "      <td>0</td>\n",
       "      <td>0.000000</td>\n",
       "      <td>0</td>\n",
       "      <td>0.000000</td>\n",
       "      <td>0.000000</td>\n",
       "    </tr>\n",
       "    <tr>\n",
       "      <th>Totals</th>\n",
       "      <td></td>\n",
       "      <td>307511</td>\n",
       "      <td>1.000000</td>\n",
       "      <td>282686</td>\n",
       "      <td>24825</td>\n",
       "      <td>0.080729</td>\n",
       "      <td></td>\n",
       "      <td>0.045860</td>\n",
       "      <td>0.005699</td>\n",
       "    </tr>\n",
       "  </tbody>\n",
       "</table>\n",
       "</div>"
      ],
      "text/plain": [
       "                                                      Bin   Count  Count (%)  \\\n",
       "0       [Businessman, Pensioner, Maternity leave, Stat...   77080   0.250658   \n",
       "1                         [Commercial associate, Working]  230391   0.749212   \n",
       "2                                   [Unemployed, Student]      40   0.000130   \n",
       "3                                                 Special       0   0.000000   \n",
       "4                                                 Missing       0   0.000000   \n",
       "Totals                                                     307511   1.000000   \n",
       "\n",
       "        Non-event  Event  Event rate       WoE        IV        JS  \n",
       "0           72847   4233    0.054917  0.412965  0.036003  0.004469  \n",
       "1          209807  20584    0.089344 -0.110812  0.009638  0.001204  \n",
       "2              32      8    0.200000  -1.04619  0.000219  0.000026  \n",
       "3               0      0    0.000000         0  0.000000  0.000000  \n",
       "4               0      0    0.000000         0  0.000000  0.000000  \n",
       "Totals     282686  24825    0.080729            0.045860  0.005699  "
      ]
     },
     "execution_count": 50,
     "metadata": {},
     "output_type": "execute_result"
    }
   ],
   "source": [
    "binning_table = optb.binning_table\n",
    "binning_table.build()"
   ]
  },
  {
   "cell_type": "code",
   "execution_count": 51,
   "metadata": {},
   "outputs": [
    {
     "name": "stdout",
     "output_type": "stream",
     "text": [
      "optbinning (Version 0.6.0)\n",
      "Copyright (c) 2019-2020 Guillermo Navas-Palencia, Apache License 2.0\n",
      "\n",
      "  Name    : NAME_INCOME_TYPE                \n",
      "  Status  : OPTIMAL                         \n",
      "\n",
      "  Pre-binning statistics\n",
      "    Number of pre-bins                     5\n",
      "    Number of refinements                  1\n",
      "\n",
      "  Solver statistics\n",
      "    Type                                  cp\n",
      "    Number of booleans                     4\n",
      "    Number of branches                    10\n",
      "    Number of conflicts                    0\n",
      "    Objective value                    45858\n",
      "    Best objective bound               45858\n",
      "\n",
      "  Timing\n",
      "    Total time                          0.24 sec\n",
      "    Pre-processing                      0.02 sec   ( 10.06%)\n",
      "    Pre-binning                         0.21 sec   ( 85.98%)\n",
      "    Solver                              0.01 sec   (  3.82%)\n",
      "      model generation                  0.01 sec   ( 81.38%)\n",
      "      optimizer                         0.00 sec   ( 18.62%)\n",
      "    Post-processing                     0.00 sec   (  0.02%)\n",
      "\n"
     ]
    }
   ],
   "source": [
    "optb.information()"
   ]
  },
  {
   "cell_type": "markdown",
   "metadata": {},
   "source": [
    "#### Performance: choosing a solver"
   ]
  },
  {
   "cell_type": "markdown",
   "metadata": {},
   "source": [
    "For small problems, say less than ``max_n_prebins<=20``, the ``solver=\"mip\"`` tends to be faster than ``solver=\"cp\"``. However, for medium and large problems, experiments show the contrary. For very large problems, we recommend the use of the commercial solver LocalSolver via ``solver=\"ls\"``. See the specific LocalSolver tutorial."
   ]
  },
  {
   "cell_type": "markdown",
   "metadata": {},
   "source": [
    "#### Missing data and special codes"
   ]
  },
  {
   "cell_type": "markdown",
   "metadata": {},
   "source": [
    "For this example, let's load data from the FICO Explainable Machine Learning Challenge: https://community.fico.com/s/explainable-machine-learning-challenge"
   ]
  },
  {
   "cell_type": "code",
   "execution_count": 52,
   "metadata": {},
   "outputs": [],
   "source": [
    "df = pd.read_csv(\"data/FICO_challenge/heloc_dataset_v1.csv\", sep=\",\")"
   ]
  },
  {
   "cell_type": "markdown",
   "metadata": {},
   "source": [
    "The data dictionary of this challenge includes three special values/codes:\n",
    "\n",
    "* -9 No Bureau Record or No Investigation\n",
    "* -8 No Usable/Valid Trades or Inquiries\n",
    "* -7 Condition not Met (e.g. No Inquiries, No Delinquencies) "
   ]
  },
  {
   "cell_type": "code",
   "execution_count": 53,
   "metadata": {},
   "outputs": [],
   "source": [
    "special_codes = [-9, -8, -7]"
   ]
  },
  {
   "cell_type": "code",
   "execution_count": 54,
   "metadata": {},
   "outputs": [],
   "source": [
    "variable = \"AverageMInFile\"\n",
    "x = df[variable].values\n",
    "y = df.RiskPerformance.values"
   ]
  },
  {
   "cell_type": "code",
   "execution_count": 55,
   "metadata": {},
   "outputs": [
    {
     "data": {
      "text/plain": [
       "array(['Bad', 'Good'], dtype=object)"
      ]
     },
     "execution_count": 55,
     "metadata": {},
     "output_type": "execute_result"
    }
   ],
   "source": [
    "df.RiskPerformance.unique()"
   ]
  },
  {
   "cell_type": "markdown",
   "metadata": {},
   "source": [
    "Target is a categorical dichotomic variable, which can be easily transform into numerical."
   ]
  },
  {
   "cell_type": "code",
   "execution_count": 56,
   "metadata": {},
   "outputs": [],
   "source": [
    "mask = y == \"Bad\"\n",
    "y[mask] = 1\n",
    "y[~mask] = 0\n",
    "y = y.astype(np.int)"
   ]
  },
  {
   "cell_type": "markdown",
   "metadata": {},
   "source": [
    "For the sake of completeness, we include a few missing values"
   ]
  },
  {
   "cell_type": "code",
   "execution_count": 57,
   "metadata": {},
   "outputs": [],
   "source": [
    "idx = np.random.randint(0, len(x), 500)\n",
    "x = x.astype(np.float)\n",
    "x[idx] = np.nan"
   ]
  },
  {
   "cell_type": "code",
   "execution_count": 58,
   "metadata": {},
   "outputs": [
    {
     "data": {
      "text/plain": [
       "OptimalBinning(cat_cutoff=None, class_weight=None, dtype='numerical', gamma=0,\n",
       "               max_bin_n_event=None, max_bin_n_nonevent=None, max_bin_size=None,\n",
       "               max_n_bins=None, max_n_prebins=20, max_pvalue=None,\n",
       "               max_pvalue_policy='consecutive', min_bin_n_event=None,\n",
       "               min_bin_n_nonevent=None, min_bin_size=None,\n",
       "               min_event_rate_diff=0, min_n_bins=None, min_prebin_size=0.05,\n",
       "               mip_solver='bop', monotonic_trend='auto', name='AverageMInFile',\n",
       "               outlier_detector=None, outlier_params=None,\n",
       "               prebinning_method='cart', solver='mip',\n",
       "               special_codes=[-9, -8, -7], split_digits=None, time_limit=100,\n",
       "               user_splits=None, user_splits_fixed=None, verbose=False)"
      ]
     },
     "execution_count": 58,
     "metadata": {},
     "output_type": "execute_result"
    }
   ],
   "source": [
    "optb = OptimalBinning(name=variable, dtype=\"numerical\", solver=\"mip\",\n",
    "                      special_codes=special_codes)\n",
    "\n",
    "optb.fit(x, y)"
   ]
  },
  {
   "cell_type": "code",
   "execution_count": 59,
   "metadata": {},
   "outputs": [
    {
     "name": "stdout",
     "output_type": "stream",
     "text": [
      "optbinning (Version 0.6.0)\n",
      "Copyright (c) 2019-2020 Guillermo Navas-Palencia, Apache License 2.0\n",
      "\n",
      "  Name    : AverageMInFile                  \n",
      "  Status  : OPTIMAL                         \n",
      "\n",
      "  Pre-binning statistics\n",
      "    Number of pre-bins                    13\n",
      "    Number of refinements                  0\n",
      "\n",
      "  Solver statistics\n",
      "    Type                                 mip\n",
      "    Number of variables                   91\n",
      "    Number of constraints                175\n",
      "    Objective value                   0.3319\n",
      "    Best objective bound              0.3319\n",
      "\n",
      "  Timing\n",
      "    Total time                          0.09 sec\n",
      "    Pre-processing                      0.00 sec   (  1.64%)\n",
      "    Pre-binning                         0.01 sec   (  5.83%)\n",
      "    Solver                              0.08 sec   ( 91.93%)\n",
      "    Post-processing                     0.00 sec   (  0.08%)\n",
      "\n"
     ]
    }
   ],
   "source": [
    "optb.information(print_level=1)"
   ]
  },
  {
   "cell_type": "code",
   "execution_count": 60,
   "metadata": {},
   "outputs": [
    {
     "data": {
      "text/html": [
       "<div>\n",
       "<style scoped>\n",
       "    .dataframe tbody tr th:only-of-type {\n",
       "        vertical-align: middle;\n",
       "    }\n",
       "\n",
       "    .dataframe tbody tr th {\n",
       "        vertical-align: top;\n",
       "    }\n",
       "\n",
       "    .dataframe thead th {\n",
       "        text-align: right;\n",
       "    }\n",
       "</style>\n",
       "<table border=\"1\" class=\"dataframe\">\n",
       "  <thead>\n",
       "    <tr style=\"text-align: right;\">\n",
       "      <th></th>\n",
       "      <th>Bin</th>\n",
       "      <th>Count</th>\n",
       "      <th>Count (%)</th>\n",
       "      <th>Non-event</th>\n",
       "      <th>Event</th>\n",
       "      <th>Event rate</th>\n",
       "      <th>WoE</th>\n",
       "      <th>IV</th>\n",
       "      <th>JS</th>\n",
       "    </tr>\n",
       "  </thead>\n",
       "  <tbody>\n",
       "    <tr>\n",
       "      <th>0</th>\n",
       "      <td>[-inf, 30.50)</td>\n",
       "      <td>550</td>\n",
       "      <td>0.052586</td>\n",
       "      <td>96</td>\n",
       "      <td>454</td>\n",
       "      <td>0.825455</td>\n",
       "      <td>-1.46592</td>\n",
       "      <td>0.093768</td>\n",
       "      <td>0.010773</td>\n",
       "    </tr>\n",
       "    <tr>\n",
       "      <th>1</th>\n",
       "      <td>[30.50, 48.50)</td>\n",
       "      <td>1072</td>\n",
       "      <td>0.102495</td>\n",
       "      <td>291</td>\n",
       "      <td>781</td>\n",
       "      <td>0.728545</td>\n",
       "      <td>-0.899424</td>\n",
       "      <td>0.076331</td>\n",
       "      <td>0.009232</td>\n",
       "    </tr>\n",
       "    <tr>\n",
       "      <th>2</th>\n",
       "      <td>[48.50, 56.50)</td>\n",
       "      <td>683</td>\n",
       "      <td>0.065303</td>\n",
       "      <td>246</td>\n",
       "      <td>437</td>\n",
       "      <td>0.639824</td>\n",
       "      <td>-0.486774</td>\n",
       "      <td>0.015018</td>\n",
       "      <td>0.001859</td>\n",
       "    </tr>\n",
       "    <tr>\n",
       "      <th>3</th>\n",
       "      <td>[56.50, 64.50)</td>\n",
       "      <td>923</td>\n",
       "      <td>0.088249</td>\n",
       "      <td>383</td>\n",
       "      <td>540</td>\n",
       "      <td>0.585049</td>\n",
       "      <td>-0.255706</td>\n",
       "      <td>0.005707</td>\n",
       "      <td>0.000711</td>\n",
       "    </tr>\n",
       "    <tr>\n",
       "      <th>4</th>\n",
       "      <td>[64.50, 70.50)</td>\n",
       "      <td>793</td>\n",
       "      <td>0.075820</td>\n",
       "      <td>363</td>\n",
       "      <td>430</td>\n",
       "      <td>0.542245</td>\n",
       "      <td>-0.0815547</td>\n",
       "      <td>0.000503</td>\n",
       "      <td>0.000063</td>\n",
       "    </tr>\n",
       "    <tr>\n",
       "      <th>5</th>\n",
       "      <td>[70.50, 75.50)</td>\n",
       "      <td>668</td>\n",
       "      <td>0.063868</td>\n",
       "      <td>331</td>\n",
       "      <td>337</td>\n",
       "      <td>0.504491</td>\n",
       "      <td>0.0698632</td>\n",
       "      <td>0.000312</td>\n",
       "      <td>0.000039</td>\n",
       "    </tr>\n",
       "    <tr>\n",
       "      <th>6</th>\n",
       "      <td>[75.50, 81.50)</td>\n",
       "      <td>776</td>\n",
       "      <td>0.074194</td>\n",
       "      <td>408</td>\n",
       "      <td>368</td>\n",
       "      <td>0.474227</td>\n",
       "      <td>0.191012</td>\n",
       "      <td>0.002710</td>\n",
       "      <td>0.000338</td>\n",
       "    </tr>\n",
       "    <tr>\n",
       "      <th>7</th>\n",
       "      <td>[81.50, 97.50)</td>\n",
       "      <td>1694</td>\n",
       "      <td>0.161966</td>\n",
       "      <td>969</td>\n",
       "      <td>725</td>\n",
       "      <td>0.427981</td>\n",
       "      <td>0.377921</td>\n",
       "      <td>0.023050</td>\n",
       "      <td>0.002864</td>\n",
       "    </tr>\n",
       "    <tr>\n",
       "      <th>8</th>\n",
       "      <td>[97.50, 116.50)</td>\n",
       "      <td>1163</td>\n",
       "      <td>0.111196</td>\n",
       "      <td>714</td>\n",
       "      <td>449</td>\n",
       "      <td>0.386071</td>\n",
       "      <td>0.551688</td>\n",
       "      <td>0.033405</td>\n",
       "      <td>0.004123</td>\n",
       "    </tr>\n",
       "    <tr>\n",
       "      <th>9</th>\n",
       "      <td>[116.50, inf)</td>\n",
       "      <td>1088</td>\n",
       "      <td>0.104025</td>\n",
       "      <td>702</td>\n",
       "      <td>386</td>\n",
       "      <td>0.354779</td>\n",
       "      <td>0.685924</td>\n",
       "      <td>0.047803</td>\n",
       "      <td>0.005861</td>\n",
       "    </tr>\n",
       "    <tr>\n",
       "      <th>10</th>\n",
       "      <td>Special</td>\n",
       "      <td>561</td>\n",
       "      <td>0.053638</td>\n",
       "      <td>255</td>\n",
       "      <td>306</td>\n",
       "      <td>0.545455</td>\n",
       "      <td>-0.0944938</td>\n",
       "      <td>0.000478</td>\n",
       "      <td>0.000060</td>\n",
       "    </tr>\n",
       "    <tr>\n",
       "      <th>11</th>\n",
       "      <td>Missing</td>\n",
       "      <td>488</td>\n",
       "      <td>0.046658</td>\n",
       "      <td>242</td>\n",
       "      <td>246</td>\n",
       "      <td>0.504098</td>\n",
       "      <td>0.0714339</td>\n",
       "      <td>0.000238</td>\n",
       "      <td>0.000030</td>\n",
       "    </tr>\n",
       "    <tr>\n",
       "      <th>Totals</th>\n",
       "      <td></td>\n",
       "      <td>10459</td>\n",
       "      <td>1.000000</td>\n",
       "      <td>5000</td>\n",
       "      <td>5459</td>\n",
       "      <td>0.521943</td>\n",
       "      <td></td>\n",
       "      <td>0.299323</td>\n",
       "      <td>0.035954</td>\n",
       "    </tr>\n",
       "  </tbody>\n",
       "</table>\n",
       "</div>"
      ],
      "text/plain": [
       "                    Bin  Count  Count (%)  Non-event  Event  Event rate  \\\n",
       "0         [-inf, 30.50)    550   0.052586         96    454    0.825455   \n",
       "1        [30.50, 48.50)   1072   0.102495        291    781    0.728545   \n",
       "2        [48.50, 56.50)    683   0.065303        246    437    0.639824   \n",
       "3        [56.50, 64.50)    923   0.088249        383    540    0.585049   \n",
       "4        [64.50, 70.50)    793   0.075820        363    430    0.542245   \n",
       "5        [70.50, 75.50)    668   0.063868        331    337    0.504491   \n",
       "6        [75.50, 81.50)    776   0.074194        408    368    0.474227   \n",
       "7        [81.50, 97.50)   1694   0.161966        969    725    0.427981   \n",
       "8       [97.50, 116.50)   1163   0.111196        714    449    0.386071   \n",
       "9         [116.50, inf)   1088   0.104025        702    386    0.354779   \n",
       "10              Special    561   0.053638        255    306    0.545455   \n",
       "11              Missing    488   0.046658        242    246    0.504098   \n",
       "Totals                   10459   1.000000       5000   5459    0.521943   \n",
       "\n",
       "              WoE        IV        JS  \n",
       "0        -1.46592  0.093768  0.010773  \n",
       "1       -0.899424  0.076331  0.009232  \n",
       "2       -0.486774  0.015018  0.001859  \n",
       "3       -0.255706  0.005707  0.000711  \n",
       "4      -0.0815547  0.000503  0.000063  \n",
       "5       0.0698632  0.000312  0.000039  \n",
       "6        0.191012  0.002710  0.000338  \n",
       "7        0.377921  0.023050  0.002864  \n",
       "8        0.551688  0.033405  0.004123  \n",
       "9        0.685924  0.047803  0.005861  \n",
       "10     -0.0944938  0.000478  0.000060  \n",
       "11      0.0714339  0.000238  0.000030  \n",
       "Totals             0.299323  0.035954  "
      ]
     },
     "execution_count": 60,
     "metadata": {},
     "output_type": "execute_result"
    }
   ],
   "source": [
    "binning_table = optb.binning_table\n",
    "binning_table.build()"
   ]
  },
  {
   "cell_type": "markdown",
   "metadata": {},
   "source": [
    "Note the dashed bins 10 and 11, corresponding to the special codes bin and the missing bin, respectively."
   ]
  },
  {
   "cell_type": "code",
   "execution_count": 61,
   "metadata": {},
   "outputs": [
    {
     "data": {
      "image/png": "[encoded data removed]",
      "text/plain": [
       "<Figure size 432x288 with 2 Axes>"
      ]
     },
     "metadata": {
      "needs_background": "light"
     },
     "output_type": "display_data"
    }
   ],
   "source": [
    "binning_table.plot(metric=\"event_rate\")"
   ]
  },
  {
   "cell_type": "markdown",
   "metadata": {},
   "source": [
    "#### Verbosity option"
   ]
  },
  {
   "cell_type": "markdown",
   "metadata": {},
   "source": [
    "For debugging purposes, we can print information on each step of the computation by triggering the ``verbose`` option."
   ]
  },
  {
   "cell_type": "code",
   "execution_count": 62,
   "metadata": {},
   "outputs": [
    {
     "name": "stdout",
     "output_type": "stream",
     "text": [
      "2020-04-12 13:32:49,074 | INFO : Optimal binning started.\n",
      "2020-04-12 13:32:49,076 | INFO : Options: check parameters.\n",
      "2020-04-12 13:32:49,077 | INFO : Pre-processing started.\n",
      "2020-04-12 13:32:49,078 | INFO : Pre-processing: number of samples: 10459\n",
      "2020-04-12 13:32:49,080 | INFO : Pre-processing: number of clean samples: 9971\n",
      "2020-04-12 13:32:49,081 | INFO : Pre-processing: number of missing samples: 488\n",
      "2020-04-12 13:32:49,082 | INFO : Pre-processing: number of special samples: 0\n",
      "2020-04-12 13:32:49,083 | INFO : Pre-processing terminated. Time: 0.0007s\n",
      "2020-04-12 13:32:49,084 | INFO : Pre-binning started.\n",
      "2020-04-12 13:32:49,096 | INFO : Pre-binning: number of prebins: 15\n",
      "2020-04-12 13:32:49,097 | INFO : Pre-binning: number of refinements: 0\n",
      "2020-04-12 13:32:49,099 | INFO : Pre-binning terminated. Time: 0.0107s\n",
      "2020-04-12 13:32:49,101 | INFO : Optimizer started.\n",
      "2020-04-12 13:32:49,103 | INFO : Optimizer: classifier predicts descending monotonic trend.\n",
      "2020-04-12 13:32:49,105 | INFO : Optimizer: build model...\n",
      "2020-04-12 13:32:49,204 | INFO : Optimizer: solve...\n",
      "2020-04-12 13:32:49,209 | INFO : Optimizer terminated. Time: 0.1069s\n",
      "2020-04-12 13:32:49,210 | INFO : Post-processing started.\n",
      "2020-04-12 13:32:49,211 | INFO : Post-processing: compute binning information.\n",
      "2020-04-12 13:32:49,212 | INFO : Post-processing terminated. Time: 0.0001s\n",
      "2020-04-12 13:32:49,213 | INFO : Optimal binning terminated. Status: OPTIMAL. Time: 0.1384s\n"
     ]
    },
    {
     "data": {
      "text/plain": [
       "OptimalBinning(cat_cutoff=None, class_weight=None, dtype='numerical', gamma=0,\n",
       "               max_bin_n_event=None, max_bin_n_nonevent=None, max_bin_size=None,\n",
       "               max_n_bins=None, max_n_prebins=20, max_pvalue=None,\n",
       "               max_pvalue_policy='consecutive', min_bin_n_event=None,\n",
       "               min_bin_n_nonevent=None, min_bin_size=None,\n",
       "               min_event_rate_diff=0, min_n_bins=None, min_prebin_size=0.05,\n",
       "               mip_solver='bop', monotonic_trend='auto', name='AverageMInFile',\n",
       "               outlier_detector=None, outlier_params=None,\n",
       "               prebinning_method='cart', solver='mip', special_codes=None,\n",
       "               split_digits=None, time_limit=100, user_splits=None,\n",
       "               user_splits_fixed=None, verbose=True)"
      ]
     },
     "execution_count": 62,
     "metadata": {},
     "output_type": "execute_result"
    }
   ],
   "source": [
    "optb = OptimalBinning(name=variable, dtype=\"numerical\", solver=\"mip\", verbose=True)\n",
    "optb.fit(x, y)"
   ]
  }
 ],
 "metadata": {
  "kernelspec": {
   "display_name": "Python 3",
   "language": "python",
   "name": "python3"
  },
  "language_info": {
   "codemirror_mode": {
    "name": "ipython",
    "version": 3
   },
   "file_extension": ".py",
   "mimetype": "text/x-python",
   "name": "python",
   "nbconvert_exporter": "python",
   "pygments_lexer": "ipython3",
   "version": "3.7.4"
  }
 },
 "nbformat": 4,
 "nbformat_minor": 2
}
